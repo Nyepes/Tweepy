{
 "cells": [
  {
   "cell_type": "code",
   "execution_count": 8,
   "id": "df1a990b",
   "metadata": {},
   "outputs": [],
   "source": [
    "api_key = \"b3rfiePA8CdpJy9xzAnUwiuId\"\n",
    "\n",
    "api_sec_key = \"i1Xz9Q3aYaSXSmLNNTSzvC1nfsVQb6Fkh65fZqGrPSXQ7V6qS5\"\n",
    "\n",
    "bearer_token = \"AAAAAAAAAAAAAAAAAAAAAFeQhwEAAAAAPCLOB4aAqGsCbroJJo%2BYGT%2B3%2FQ4%3D4et7Z0JKsUmNwlmqTmS2ad8I1VK30NDcIukY43mguMXoD0h8wM\"\n",
    "\n",
    "access_token = \"807672937876701184-GH34cC3zSWd5Z5orIYwIaAqmSClAb70\"\n",
    "\n",
    "access_token_secret = \"XoixXD97H4Kh4uobtgjviFYpPUOLRmkWH5n2SC48zWVGO\""
   ]
  },
  {
   "cell_type": "code",
   "execution_count": 15,
   "id": "93b61bbc",
   "metadata": {},
   "outputs": [],
   "source": [
    "import tweepy\n",
    "\n",
    "client = tweepy.Client(bearer_token=bearer_token,\n",
    "                      consumer_key=api_key,\n",
    "                      consumer_secret=api_sec_key,\n",
    "                      access_token=access_token,\n",
    "                      access_token_secret=access_token_secret)"
   ]
  },
  {
   "cell_type": "code",
   "execution_count": 16,
   "id": "d328a1e6",
   "metadata": {},
   "outputs": [],
   "source": [
    "tweets = client.search_recent_tweets(query=\"UIUC\", max_results=10)"
   ]
  },
  {
   "cell_type": "code",
   "execution_count": 17,
   "id": "c7f38b0b",
   "metadata": {},
   "outputs": [
    {
     "name": "stdout",
     "output_type": "stream",
     "text": [
      "Response(data=[<Tweet id=1579934348144709632 text='WL INFORM @patilkdeepak @gbm22 @RyanKeisler @rruhlen @stevefduke @scottytelluride @sshussain270 @sheetal_uiuc @olivertilk @VincentBarr https://t.co/R2Iqqomyf3'>, <Tweet id=1579933754973630464 text='WL Warning @t_witteried @vlad_sazon @HannesM1 @prem_uiuc @Rahul_Mangalore @Puneeth__hegde @natemcgowan @helenstravels @KalyaAshish @pumpkinpie65 @remarksbyilya https://t.co/7XGFxWLuxk'>, <Tweet id=1579933362478673920 text='Call us at 217-355-0500, or click on the link to request a quote for your marketing project. We design, print, and promote you! https://t.co/8J3Ac9v668\\n\\n#minutemanpress #minuteman #minutemanpresschampaign #champaign #urbana #uiuc #design #print #promote #graphicdesignservices https://t.co/hZBeGDhmS2'>, <Tweet id=1579933361174614016 text='Call us at 217-355-0500, or click on the link to request a quote for your marketing project. We design, print, and promote you! https://t.co/8J3Ac9Nfkg\\n\\n#minutemanpress #minuteman #minutemanpresschampaign #champaign #urbana #uiuc #design #print #promote #graphicdesignservices https://t.co/d4eC6Zw1fF'>, <Tweet id=1579932349311098911 text=\"Heads up! Today is the LAST day to register for the #IllinoisGlobalSummit! Register here if you want to attend in person on Oct. 19 ➡️ https://t.co/xG2XuNkeks\\nOr, tune in to our livestream here ➡️ https://t.co/OrBUctm5kj the day of if you can't join in person! \\n#UIUC #Vision2030 https://t.co/EknmuCPYP6\">, <Tweet id=1579927892045144064 text='Call the Minuteman Team at 217-355-0500, or click for a quote. We design, print, and promote you! And, we deliver! https://t.co/8J3Ac9v668\\n#minuteman #minutemanpress #champaign #urbana #uiuc #design #print #promote #printingdelivery https://t.co/s98nRicgk9'>, <Tweet id=1579925677737791488 text='@DrMaDMo @Silpayamanant The musicology methods/intro to musicology/musicology 101 type class at UIUC!'>, <Tweet id=1579906884014047232 text='#UIUC https://t.co/mkVG8XFVp5'>, <Tweet id=1579906774588870657 text='RT @supad3z: UIUC homecoming the move this year'>, <Tweet id=1579905965096603648 text='@JoeSilverman7 @UIUC_Yenta So there were early signs you were going to become a pilot!😂'>], includes={}, errors=[], meta={'newest_id': '1579934348144709632', 'oldest_id': '1579905965096603648', 'result_count': 10, 'next_token': 'b26v89c19zqg8o3fpzbngs4zbjqv1cjd8qg1kcoiws6m5'})\n"
     ]
    }
   ],
   "source": [
    "print(tweets)"
   ]
  },
  {
   "cell_type": "code",
   "execution_count": null,
   "id": "e28fb6e3",
   "metadata": {},
   "outputs": [],
   "source": []
  }
 ],
 "metadata": {
  "kernelspec": {
   "display_name": "Python 3 (ipykernel)",
   "language": "python",
   "name": "python3"
  },
  "language_info": {
   "codemirror_mode": {
    "name": "ipython",
    "version": 3
   },
   "file_extension": ".py",
   "mimetype": "text/x-python",
   "name": "python",
   "nbconvert_exporter": "python",
   "pygments_lexer": "ipython3",
   "version": "3.9.12"
  }
 },
 "nbformat": 4,
 "nbformat_minor": 5
}
