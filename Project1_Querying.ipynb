{
 "cells": [
  {
   "cell_type": "code",
   "execution_count": 1,
   "id": "df1a990b",
   "metadata": {},
   "outputs": [],
   "source": [
    "api_key = \"b3rfiePA8CdpJy9xzAnUwiuId\"\n",
    "api_sec_key = \"i1Xz9Q3aYaSXSmLNNTSzvC1nfsVQb6Fkh65fZqGrPSXQ7V6qS5\"\n",
    "bearer_token = \"AAAAAAAAAAAAAAAAAAAAAFeQhwEAAAAAPCLOB4aAqGsCbroJJo%2BYGT%2B3%2FQ4%3D4et7Z0JKsUmNwlmqTmS2ad8I1VK30NDcIukY43mguMXoD0h8wM\"\n",
    "access_token = \"807672937876701184-GH34cC3zSWd5Z5orIYwIaAqmSClAb70\"\n",
    "access_token_secret = \"XoixXD97H4Kh4uobtgjviFYpPUOLRmkWH5n2SC48zWVGO\""
   ]
  },
  {
   "cell_type": "code",
   "execution_count": 2,
   "id": "93b61bbc",
   "metadata": {},
   "outputs": [],
   "source": [
    "import tweepy\n",
    "\n",
    "client = tweepy.Client(bearer_token=bearer_token,\n",
    "                      consumer_key=api_key,\n",
    "                      consumer_secret=api_sec_key,\n",
    "                      access_token=access_token,\n",
    "                      access_token_secret=access_token_secret)"
   ]
  },
  {
   "cell_type": "code",
   "execution_count": 3,
   "id": "d328a1e6",
   "metadata": {},
   "outputs": [],
   "source": [
    "tweets = client.search_recent_tweets(query=\"UIUC\", max_results=10)"
   ]
  },
  {
   "cell_type": "code",
   "execution_count": 20,
   "id": "c7f38b0b",
   "metadata": {},
   "outputs": [
    {
     "name": "stdout",
     "output_type": "stream",
     "text": [
      "RT @IllinoisLibrary: Want to learn more about zines? Zines are DIY, creative expressions-there are no rules! Learn about how to use #Zines…\n"
     ]
    }
   ],
   "source": [
    "print(tweets.data[2])\n",
    "#https://t.co/PAZ51Dd3Dq"
   ]
  },
  {
   "cell_type": "code",
   "execution_count": 10,
   "id": "e28fb6e3",
   "metadata": {},
   "outputs": [
    {
     "name": "stdout",
     "output_type": "stream",
     "text": [
      "<class 'tweepy.client.Response'>\n"
     ]
    }
   ],
   "source": [
    "print( type(tweets))\n",
    "a = str(tweets)\n"
   ]
  },
  {
   "cell_type": "code",
   "execution_count": 6,
   "id": "ebc708c1",
   "metadata": {},
   "outputs": [],
   "source": [
    "from textblob import TextBlob"
   ]
  },
  {
   "cell_type": "code",
   "execution_count": 22,
   "id": "9e1d736e",
   "metadata": {},
   "outputs": [
    {
     "data": {
      "text/plain": [
       "Sentiment(polarity=0.5625, subjectivity=0.75)"
      ]
     },
     "execution_count": 22,
     "metadata": {},
     "output_type": "execute_result"
    }
   ],
   "source": [
    "TextBlob(str(tweets.data[2])).sentiment"
   ]
  },
  {
   "cell_type": "code",
   "execution_count": 25,
   "id": "ccfc107c",
   "metadata": {},
   "outputs": [
    {
     "name": "stdout",
     "output_type": "stream",
     "text": [
      "Sentiment(polarity=0.0, subjectivity=0.0)\n",
      "Sentiment(polarity=0.0, subjectivity=0.0)\n",
      "Sentiment(polarity=0.5625, subjectivity=0.75)\n",
      "Sentiment(polarity=0.55, subjectivity=0.44999999999999996)\n",
      "Sentiment(polarity=0.1, subjectivity=0.3)\n",
      "Sentiment(polarity=0.025, subjectivity=0.11666666666666667)\n",
      "Sentiment(polarity=0.5, subjectivity=1.0)\n",
      "Sentiment(polarity=0.0, subjectivity=0.0)\n",
      "Sentiment(polarity=0.0, subjectivity=0.0)\n",
      "Sentiment(polarity=0.3, subjectivity=0.8)\n"
     ]
    }
   ],
   "source": [
    "for tweet in tweets.data:\n",
    "    print(TextBlob(str(tweet)).sentiment)"
   ]
  },
  {
   "cell_type": "code",
   "execution_count": 29,
   "id": "60b19636",
   "metadata": {},
   "outputs": [
    {
     "name": "stdout",
     "output_type": "stream",
     "text": [
      "Stop by the housing fair TODAY from 11a-2p to meet CU's top apartment companies and win prizes! Don't miss the chance to find your dream home for next year!!\n",
      "\n",
      "@BankierApts @americancampus @LiveSeven07 @Burnham310\n",
      "@liveatoctave @Legacy202uiuc\n",
      "#UIUC #IlliniNation https://t.co/dlAZRREBXN\n"
     ]
    }
   ],
   "source": [
    "print(tweets.data[3])"
   ]
  },
  {
   "cell_type": "code",
   "execution_count": null,
   "id": "f580b46e",
   "metadata": {},
   "outputs": [],
   "source": []
  }
 ],
 "metadata": {
  "kernelspec": {
   "display_name": "Python 3 (ipykernel)",
   "language": "python",
   "name": "python3"
  },
  "language_info": {
   "codemirror_mode": {
    "name": "ipython",
    "version": 3
   },
   "file_extension": ".py",
   "mimetype": "text/x-python",
   "name": "python",
   "nbconvert_exporter": "python",
   "pygments_lexer": "ipython3",
   "version": "3.9.12"
  }
 },
 "nbformat": 4,
 "nbformat_minor": 5
}
